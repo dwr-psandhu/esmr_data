{
 "cells": [
  {
   "cell_type": "markdown",
   "id": "b7f20868-650f-469b-8170-b4fe7b12fed6",
   "metadata": {},
   "source": [
    "# Dashboard"
   ]
  },
  {
   "cell_type": "markdown",
   "id": "94700f77-700c-4e45-bb34-072dfe5fdfad",
   "metadata": {
    "tags": []
   },
   "source": [
    "# ESMR data from open data\n",
    "https://data.ca.gov/dataset/water-quality-effluent-electronic-self-monitoring-report-esmr-data"
   ]
  },
  {
   "cell_type": "code",
   "execution_count": null,
   "id": "7be28b37-651b-4bf2-83f6-3f4b3e9715dc",
   "metadata": {},
   "outputs": [],
   "source": [
    "%load_ext autoreload\n",
    "%autoreload 2"
   ]
  },
  {
   "cell_type": "code",
   "execution_count": null,
   "id": "bd7cb5d6-8555-448e-a388-f1e03c6d7845",
   "metadata": {
    "tags": []
   },
   "outputs": [],
   "source": [
    "import panel as pn\n",
    "import param\n",
    "import holoviews as hv\n",
    "from holoviews import opts, dim\n",
    "import hvplot.pandas\n",
    "import numpy as np\n",
    "import pandas as pd\n",
    "import os\n",
    "import warnings\n",
    "warnings.filterwarnings(\"ignore\")\n",
    "# viz libs\n",
    "hv.extension('bokeh')\n",
    "pn.extension()"
   ]
  },
  {
   "cell_type": "markdown",
   "id": "69e3f6d7-e3ae-44b2-91aa-cf06ee98b336",
   "metadata": {},
   "source": [
    "## Read in data"
   ]
  },
  {
   "cell_type": "code",
   "execution_count": null,
   "id": "f88cd75e-c473-439d-9d27-c122899d85e4",
   "metadata": {},
   "outputs": [],
   "source": [
    "from esmr_data import esmr\n",
    "df = esmr.read_data_csv(\n",
    "    '../tests/data/esmr-analytical-export_years-2006-2022_2022-11-17.csv')\n",
    "data = esmr.ESMR(df)\n",
    "print('Number of WWTP facilities : ', len(data.get_facility_names()))"
   ]
  },
  {
   "cell_type": "markdown",
   "id": "b025729e-b242-4c95-a037-7bfac3efea0b",
   "metadata": {
    "tags": []
   },
   "source": [
    "## Plot for facilities that have location information of lat/lon"
   ]
  },
  {
   "cell_type": "code",
   "execution_count": null,
   "id": "50fd8948-a3e2-46e8-9664-fdc6f215be2b",
   "metadata": {},
   "outputs": [],
   "source": [
    "facility_location_lat_lon = esmr.build_facility_location_lat_lon(df)\n",
    "facility_location_lat_lon.head()"
   ]
  },
  {
   "cell_type": "code",
   "execution_count": null,
   "id": "86def79c-c8b0-421c-a570-ce715c630455",
   "metadata": {},
   "outputs": [],
   "source": [
    "facility_location_lat_lon.groupby('facility_name').mean().reset_index()[['facility_name','latitude','longitude']]"
   ]
  },
  {
   "cell_type": "markdown",
   "id": "2e5bd6ea",
   "metadata": {
    "tags": []
   },
   "source": [
    "## Many facilities don't have lat/lon !"
   ]
  },
  {
   "cell_type": "code",
   "execution_count": null,
   "id": "6dc7178b",
   "metadata": {},
   "outputs": [],
   "source": [
    "facility_no_lat_lon = esmr.get_facilities_with_no_latlon_info(\n",
    "    df, facility_location_lat_lon)\n",
    "facility_no_lat_lon.head()"
   ]
  },
  {
   "cell_type": "code",
   "execution_count": null,
   "id": "53cde025-d358-4544-af1c-abfaebe3b624",
   "metadata": {},
   "outputs": [],
   "source": [
    "facility_no_lat_lon.query('facility_name.str.contains(\"Delta Diablo\")')"
   ]
  },
  {
   "cell_type": "code",
   "execution_count": null,
   "id": "0f5290d3-9f86-4d32-865c-d10ae649ad99",
   "metadata": {},
   "outputs": [],
   "source": [
    "data.get_facility('Delta Diablo WWTP')"
   ]
  },
  {
   "cell_type": "code",
   "execution_count": null,
   "id": "63f8c738-589b-4988-95b7-9c7900ea3539",
   "metadata": {},
   "outputs": [],
   "source": [
    "map_pts = facility_location_lat_lon.hvplot.points(x='longitude', y='latitude',\n",
    "                                                  geo=True, tiles=True,\n",
    "                                                  hover_cols=['facility_name', 'location', 'location_desc'], tools=['tap'],\n",
    "                                                  nonselection_color='gray', nonselection_alpha=0.5, size=20,\n",
    "                                                  ).opts(\n",
    "    frame_width=500,\n",
    "    active_tools=['wheel_zoom', 'pan', 'tap'],\n",
    "    title='Facilities with Lat/Lon information')\n",
    "map_pts"
   ]
  },
  {
   "cell_type": "code",
   "execution_count": null,
   "id": "f6409559-10de-478c-b4b7-5afd47855365",
   "metadata": {},
   "outputs": [],
   "source": [
    "from esmr_data import dash"
   ]
  },
  {
   "cell_type": "code",
   "execution_count": null,
   "id": "d91d0af0-caff-43e5-b7cb-8add58ee37df",
   "metadata": {
    "tags": []
   },
   "outputs": [],
   "source": [
    "dash.ESMRDash(data).show()"
   ]
  },
  {
   "cell_type": "code",
   "execution_count": null,
   "id": "879c9956-2a0b-4b81-9d8e-30a46b3c2f60",
   "metadata": {},
   "outputs": [],
   "source": []
  }
 ],
 "metadata": {
  "kernelspec": {
   "display_name": "Python [conda env:pydelmod]",
   "language": "python",
   "name": "conda-env-pydelmod-py"
  },
  "language_info": {
   "codemirror_mode": {
    "name": "ipython",
    "version": 3
   },
   "file_extension": ".py",
   "mimetype": "text/x-python",
   "name": "python",
   "nbconvert_exporter": "python",
   "pygments_lexer": "ipython3",
   "version": "3.9.15"
  },
  "vscode": {
   "interpreter": {
    "hash": "5bc547b4e6cad8ff02940230625a7bf7fc546e2c0affe95db29757aca6a365b7"
   }
  }
 },
 "nbformat": 4,
 "nbformat_minor": 5
}
