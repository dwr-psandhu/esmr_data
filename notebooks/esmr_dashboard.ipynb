{
 "cells": [
  {
   "cell_type": "markdown",
   "id": "b7f20868-650f-469b-8170-b4fe7b12fed6",
   "metadata": {},
   "source": [
    "# Dashboard"
   ]
  },
  {
   "cell_type": "markdown",
   "id": "94700f77-700c-4e45-bb34-072dfe5fdfad",
   "metadata": {
    "tags": []
   },
   "source": [
    "# ESMR data from open data\n",
    "https://data.ca.gov/dataset/water-quality-effluent-electronic-self-monitoring-report-esmr-data"
   ]
  },
  {
   "cell_type": "code",
   "execution_count": null,
   "id": "7be28b37-651b-4bf2-83f6-3f4b3e9715dc",
   "metadata": {},
   "outputs": [],
   "source": [
    "%load_ext autoreload\n",
    "%autoreload 2"
   ]
  },
  {
   "cell_type": "code",
   "execution_count": null,
   "id": "bd7cb5d6-8555-448e-a388-f1e03c6d7845",
   "metadata": {
    "tags": []
   },
   "outputs": [],
   "source": [
    "import panel as pn\n",
    "import param\n",
    "import holoviews as hv\n",
    "from holoviews import opts, dim\n",
    "import hvplot.pandas\n",
    "import numpy as np\n",
    "import pandas as pd\n",
    "import os\n",
    "import warnings\n",
    "warnings.filterwarnings(\"ignore\")\n",
    "# viz libs\n",
    "hv.extension('bokeh')\n",
    "pn.extension('tabulator')"
   ]
  },
  {
   "cell_type": "markdown",
   "id": "69e3f6d7-e3ae-44b2-91aa-cf06ee98b336",
   "metadata": {},
   "source": [
    "## Read in data"
   ]
  },
  {
   "cell_type": "code",
   "execution_count": 3,
   "id": "6eb8f452",
   "metadata": {},
   "outputs": [],
   "source": [
    "# needs to be done once\n",
    "#!pip install -e ../"
   ]
  },
  {
   "cell_type": "code",
   "execution_count": 4,
   "id": "7056d8c3",
   "metadata": {},
   "outputs": [],
   "source": [
    "esmr_file = '../tests/data/esmr-analytical-export_years-2006-2024_2024-03-13.csv'\n",
    "#esmr_file = '../tests/data/esmr-analytical-export_year-2024_2024-12-02.csv'\n"
   ]
  },
  {
   "cell_type": "code",
   "execution_count": null,
   "id": "f88cd75e-c473-439d-9d27-c122899d85e4",
   "metadata": {},
   "outputs": [],
   "source": [
    "from esmr_data import esmr\n",
    "df = esmr.read_data_csv(esmr_file)\n",
    "data = esmr.ESMR(df)\n",
    "print('Number of WWTP facilities : ', len(data.get_facility_names()))"
   ]
  },
  {
   "cell_type": "markdown",
   "id": "b025729e-b242-4c95-a037-7bfac3efea0b",
   "metadata": {
    "tags": []
   },
   "source": [
    "## Plot for facilities that have location information of lat/lon"
   ]
  },
  {
   "cell_type": "code",
   "execution_count": null,
   "id": "44be3236",
   "metadata": {},
   "outputs": [],
   "source": [
    "df.head()"
   ]
  },
  {
   "cell_type": "code",
   "execution_count": null,
   "id": "50fd8948-a3e2-46e8-9664-fdc6f215be2b",
   "metadata": {},
   "outputs": [],
   "source": [
    "facility_location_lat_lon = esmr.build_facility_location_lat_lon(df)\n",
    "facility_location_lat_lon.head()"
   ]
  },
  {
   "cell_type": "markdown",
   "id": "2e5bd6ea",
   "metadata": {
    "tags": []
   },
   "source": [
    "## Many facilities don't have lat/lon !"
   ]
  },
  {
   "cell_type": "code",
   "execution_count": null,
   "id": "6dc7178b",
   "metadata": {},
   "outputs": [],
   "source": [
    "facility_no_lat_lon = esmr.get_facilities_with_no_latlon_info(\n",
    "    df, facility_location_lat_lon)\n",
    "facility_no_lat_lon.head()"
   ]
  },
  {
   "cell_type": "markdown",
   "id": "2db318e1",
   "metadata": {},
   "source": [
    "# Extract select facilities and parameters (flow, ec, temp)"
   ]
  },
  {
   "cell_type": "code",
   "execution_count": 9,
   "id": "0f5290d3-9f86-4d32-865c-d10ae649ad99",
   "metadata": {},
   "outputs": [],
   "source": [
    "facility_names = ['EchoWater Resource Recovery Facility', 'Mountain House WWTP', 'Tracy WWTP', 'City of Manteca WW Quality Control Facility', 'Stockton Regional WW Control Facility', \n",
    "                  'White Slough Water Pollution Control Facility', 'Ironhouse WWTF', 'Sac City Combined WW Collection/TRT Sys', 'Brentwood WWTP']\n",
    "parameters = ['Flow', 'Temperature', 'Electrical Conductivity @ 25 Deg. C']\n",
    "plots = {'Flow': [], 'Temperature': [], 'Electrical_Conductivity_@_25_Deg._C': []}\n",
    "dfmap = {}\n",
    "for facility_name in facility_names:\n",
    "    location_place_type = 'Effluent Monitoring'\n",
    "    for parameter in parameters:\n",
    "        dff = df[(df.facility_name == facility_name) & (df.location_place_type == 'Effluent Monitoring') & (df.parameter == parameter)]\n",
    "        fname = facility_name.replace(' ', '_')\n",
    "        fname = fname.replace('/', '_')\n",
    "        pname = parameter.replace(' ', '_')\n",
    "        plots[pname].append(dff.hvplot(x='analysis_datetime', y='result', title=f'{facility_name} {parameter}', ylabel=parameter, xlabel='Date', legend=False))\n",
    "        dfmap[f'{fname}_{pname}'] = dff\n",
    "        dff.to_csv(f'{fname}_{pname}.csv')"
   ]
  },
  {
   "cell_type": "code",
   "execution_count": 10,
   "id": "a6f02273",
   "metadata": {},
   "outputs": [],
   "source": [
    "def get_columns_unique_vals(df):\n",
    "    col_vals = {}\n",
    "    for col in df.columns:\n",
    "        if col not in ['result','sampling_datetime','analysis_datetime', 'report_name', 'smr_document_id']:\n",
    "            col_vals[col]=df[col].unique().tolist()\n",
    "    return col_vals"
   ]
  },
  {
   "cell_type": "code",
   "execution_count": null,
   "id": "329f9990",
   "metadata": {},
   "outputs": [],
   "source": [
    "{'EchoWater_Resource_Recovery_Facility_Flow': ('analytical_method','Nan'),\n",
    " 'EchoWater_Resource_Recovery_Facility_Temperature': ('calculated_method', 'Daily Average (Mean)'),\n",
    " 'EchoWater_Resource_Recovery_Facility_Electrical_Conductivity_@_25_Deg._C': ('analytical_method', 'Nan'),\n",
    " 'Mountain_House_WWTP_Flow': ('analytical_method', 'Nan'),\n",
    " 'Mountain_House_WWTP_Temperature': ('calculated_method', 'Daily Average (Mean)'),\n",
    " 'Mountain_House_WWTP_Electrical_Conductivity_@_25_Deg._C': ('analytical_method', 'Nan'),}"
   ]
  },
  {
   "cell_type": "code",
   "execution_count": 23,
   "id": "80af96b8",
   "metadata": {},
   "outputs": [],
   "source": [
    "def write_out_data(df,key):\n",
    "    if key.endswith('Flow'):\n",
    "        dfout = df[['result']].resample('D').sum()\n",
    "    else:\n",
    "        dfout = df[['result']].resample('D').mean()\n",
    "    with open(f'raw_{key}.csv', 'w', newline='') as f:\n",
    "        for ckey, cval in get_columns_unique_vals(df).items():\n",
    "            f.write(f'# {ckey}: {cval}\\n')\n",
    "        dfout.to_csv(f)"
   ]
  },
  {
   "cell_type": "code",
   "execution_count": null,
   "id": "c33b47ae",
   "metadata": {},
   "outputs": [],
   "source": [
    "k='EchoWater_Resource_Recovery_Facility_Flow'\n",
    "dfk = dfmap[k][dfmap[k].analytical_method.notna()]\n",
    "write_out_data(dfk,k)\n",
    "dfk['result'].hvplot()\n"
   ]
  },
  {
   "cell_type": "code",
   "execution_count": null,
   "id": "489cef5c",
   "metadata": {},
   "outputs": [],
   "source": [
    "k='EchoWater_Resource_Recovery_Facility_Temperature'\n",
    "dfmap[k][dfmap[k].calculated_method=='Daily Average (Mean)']['result'].hvplot()"
   ]
  },
  {
   "cell_type": "code",
   "execution_count": null,
   "id": "4b4af694",
   "metadata": {},
   "outputs": [],
   "source": [
    "k='EchoWater_Resource_Recovery_Facility_Electrical_Conductivity_@_25_Deg._C'\n",
    "dfmap[k][dfmap[k].analytical_method_code=='E120.1']['result'].hvplot()"
   ]
  },
  {
   "cell_type": "code",
   "execution_count": null,
   "id": "f9cf6cf9",
   "metadata": {},
   "outputs": [],
   "source": [
    "k='Mountain_House_WWTP_Flow'\n",
    "dfmap[k][dfmap[k].analytical_method_code=='DU']['result'].hvplot()"
   ]
  },
  {
   "cell_type": "code",
   "execution_count": null,
   "id": "a0467ec4",
   "metadata": {},
   "outputs": [],
   "source": [
    "k='Mountain_House_WWTP_Temperature'\n",
    "dfmap[k][dfmap[k].calculated_method=='Daily Average (Mean)']['result'].hvplot()"
   ]
  },
  {
   "cell_type": "code",
   "execution_count": null,
   "id": "2852dc9b",
   "metadata": {},
   "outputs": [],
   "source": [
    "k='Mountain_House_WWTP_Electrical_Conductivity_@_25_Deg._C'\n",
    "dfmap[k][dfmap[k].analytical_method_code.notna()]['result'].hvplot.step()"
   ]
  },
  {
   "cell_type": "code",
   "execution_count": null,
   "id": "7a5528a6",
   "metadata": {},
   "outputs": [],
   "source": [
    "k='Tracy_WWTP_Flow'\n",
    "dfmap[k][dfmap[k].analytical_method_code.notna()]['result'].hvplot()"
   ]
  },
  {
   "cell_type": "code",
   "execution_count": null,
   "id": "09662db2",
   "metadata": {},
   "outputs": [],
   "source": [
    "k='Tracy_WWTP_Temperature'\n",
    "dfmap[k][dfmap[k].calculated_method=='Daily Average (Mean)']['result'].hvplot()"
   ]
  },
  {
   "cell_type": "code",
   "execution_count": null,
   "id": "e922a581",
   "metadata": {},
   "outputs": [],
   "source": [
    "k='Tracy_WWTP_Electrical_Conductivity_@_25_Deg._C'\n",
    "dfmap[k][dfmap[k].analytical_method_code.notna()]['result'].hvplot()"
   ]
  },
  {
   "cell_type": "code",
   "execution_count": null,
   "id": "a59ea688",
   "metadata": {},
   "outputs": [],
   "source": [
    "k='City_of_Manteca_WW_Quality_Control_Facility_Flow'\n",
    "dfmap[k][dfmap[k].analytical_method_code.notna()]['result'].hvplot()"
   ]
  },
  {
   "cell_type": "code",
   "execution_count": null,
   "id": "307b52fe",
   "metadata": {},
   "outputs": [],
   "source": [
    "k='City_of_Manteca_WW_Quality_Control_Facility_Temperature'\n",
    "dfmap[k][dfmap[k].calculated_method=='Daily Average (Mean)']['result'].hvplot()"
   ]
  },
  {
   "cell_type": "code",
   "execution_count": null,
   "id": "dc66d1ae",
   "metadata": {},
   "outputs": [],
   "source": [
    "k='City_of_Manteca_WW_Quality_Control_Facility_Electrical_Conductivity_@_25_Deg._C'\n",
    "dfmap[k][dfmap[k].analytical_method_code.notna()]['result'].hvplot.step()"
   ]
  },
  {
   "cell_type": "code",
   "execution_count": null,
   "id": "e303e501",
   "metadata": {},
   "outputs": [],
   "source": [
    "k='Stockton_Regional_WW_Control_Facility_Flow'\n",
    "dfmap[k][dfmap[k].analytical_method_code.notna()]['result'].hvplot()"
   ]
  },
  {
   "cell_type": "code",
   "execution_count": null,
   "id": "75f4da07",
   "metadata": {},
   "outputs": [],
   "source": [
    "k='Stockton_Regional_WW_Control_Facility_Temperature'\n",
    "#dfmap[k][dfmap[k].calculated_method=='Daily Average (Mean)'].hvplot.table()\n",
    "dfmap[k][dfmap[k].calculated_method=='Daily Average (Mean)']['result'].hvplot()"
   ]
  },
  {
   "cell_type": "code",
   "execution_count": null,
   "id": "7b1ff00d",
   "metadata": {},
   "outputs": [],
   "source": [
    "k='Stockton_Regional_WW_Control_Facility_Electrical_Conductivity_@_25_Deg._C'\n",
    "dfmap[k][dfmap[k].analytical_method_code.notna()]['result'].hvplot()"
   ]
  },
  {
   "cell_type": "code",
   "execution_count": null,
   "id": "1ddf083d",
   "metadata": {},
   "outputs": [],
   "source": [
    "k='Brentwood_WWTP_Flow'\n",
    "dfmap[k][dfmap[k].analytical_method_code.notna()]['result'].hvplot()"
   ]
  },
  {
   "cell_type": "code",
   "execution_count": null,
   "id": "a61a1c49",
   "metadata": {},
   "outputs": [],
   "source": [
    "k='Brentwood_WWTP_Temperature'\n",
    "dfmap[k][dfmap[k].analytical_method_code.notna()]['result'].hvplot()"
   ]
  },
  {
   "cell_type": "code",
   "execution_count": null,
   "id": "0bb43e8a",
   "metadata": {},
   "outputs": [],
   "source": [
    "k='Brentwood_WWTP_Electrical_Conductivity_@_25_Deg._C'\n",
    "dfmap[k][dfmap[k].analytical_method_code.notna()]['result'].hvplot()"
   ]
  },
  {
   "cell_type": "code",
   "execution_count": null,
   "id": "234b4354",
   "metadata": {},
   "outputs": [],
   "source": [
    "k='White_Slough_Water_Pollution_Control_Facility_Flow'\n",
    "dfmap[k][dfmap[k].analytical_method_code.notna()]['result'].hvplot()"
   ]
  },
  {
   "cell_type": "code",
   "execution_count": null,
   "id": "89595747",
   "metadata": {},
   "outputs": [],
   "source": [
    "k='White_Slough_Water_Pollution_Control_Facility_Temperature'\n",
    "dfmap[k][dfmap[k].calculated_method=='24-hour Average']['result'].hvplot()"
   ]
  },
  {
   "cell_type": "code",
   "execution_count": null,
   "id": "a7f0e441",
   "metadata": {},
   "outputs": [],
   "source": [
    "k='White_Slough_Water_Pollution_Control_Facility_Electrical_Conductivity_@_25_Deg._C'\n",
    "dfmap[k][dfmap[k].analytical_method_code.notna()]['result'].hvplot()"
   ]
  },
  {
   "cell_type": "markdown",
   "id": "ebe0a820",
   "metadata": {},
   "source": [
    "# Show map of facilities"
   ]
  },
  {
   "cell_type": "code",
   "execution_count": null,
   "id": "63f8c738-589b-4988-95b7-9c7900ea3539",
   "metadata": {},
   "outputs": [],
   "source": [
    "map_pts = facility_location_lat_lon.hvplot.points(x='longitude', y='latitude',\n",
    "                                                  geo=True, tiles=True,\n",
    "                                                  hover_cols=['facility_name', 'location', 'location_desc'], tools=['tap'],\n",
    "                                                  nonselection_color='gray', nonselection_alpha=0.5, size=40,\n",
    "                                                  ).opts(\n",
    "    frame_width=500,\n",
    "    active_tools=['wheel_zoom', 'pan', 'tap'],\n",
    "    title='Facilities with Lat/Lon information')\n"
   ]
  },
  {
   "cell_type": "code",
   "execution_count": 66,
   "id": "f6409559-10de-478c-b4b7-5afd47855365",
   "metadata": {},
   "outputs": [],
   "source": [
    "from esmr_data import dash"
   ]
  },
  {
   "cell_type": "code",
   "execution_count": null,
   "id": "d91d0af0-caff-43e5-b7cb-8add58ee37df",
   "metadata": {
    "tags": []
   },
   "outputs": [],
   "source": [
    "dash.ESMRDash(data).show()"
   ]
  }
 ],
 "metadata": {
  "kernelspec": {
   "display_name": "dev_pydelmod",
   "language": "python",
   "name": "python3"
  },
  "language_info": {
   "codemirror_mode": {
    "name": "ipython",
    "version": 3
   },
   "file_extension": ".py",
   "mimetype": "text/x-python",
   "name": "python",
   "nbconvert_exporter": "python",
   "pygments_lexer": "ipython3",
   "version": "3.11.10"
  }
 },
 "nbformat": 4,
 "nbformat_minor": 5
}
