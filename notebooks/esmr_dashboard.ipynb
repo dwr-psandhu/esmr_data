{
 "cells": [
  {
   "cell_type": "markdown",
   "id": "b7f20868-650f-469b-8170-b4fe7b12fed6",
   "metadata": {},
   "source": [
    "# Dashboard"
   ]
  },
  {
   "cell_type": "markdown",
   "id": "d7905e47-2f26-4c1a-bbf9-ca64da145c65",
   "metadata": {
    "tags": []
   },
   "source": [
    "# ESMR data from open data\n",
    "https://data.ca.gov/dataset/water-quality-effluent-electronic-self-monitoring-report-esmr-data"
   ]
  },
  {
   "cell_type": "code",
   "execution_count": null,
   "id": "26f34b03-7ba4-4e90-a569-88f5dbb7f7ec",
   "metadata": {
    "jupyter": {
     "source_hidden": true
    },
    "tags": []
   },
   "outputs": [],
   "source": [
    "%load_ext autoreload\n",
    "%autoreload 2"
   ]
  },
  {
   "cell_type": "code",
   "execution_count": null,
   "id": "bd7cb5d6-8555-448e-a388-f1e03c6d7845",
   "metadata": {
    "tags": []
   },
   "outputs": [],
   "source": [
    "from holoviews import opts, dim\n",
    "import holoviews as hv\n",
    "import panel as pn\n",
    "import hvplot.pandas\n",
    "import pandas as pd\n",
    "import os\n",
    "import warnings\n",
    "warnings.filterwarnings(\"ignore\")\n",
    "pn.extension()\n",
    "hv.extension('bokeh')"
   ]
  },
  {
   "cell_type": "code",
   "execution_count": null,
   "id": "f88cd75e-c473-439d-9d27-c122899d85e4",
   "metadata": {},
   "outputs": [],
   "source": [
    "import esmr"
   ]
  },
  {
   "cell_type": "code",
   "execution_count": null,
   "id": "3d8723fe-4aef-4249-aed3-cb942fe8fc76",
   "metadata": {},
   "outputs": [],
   "source": [
    "df = esmr.read_data_csv(\n",
    "    'esmr-analytical-export_years-2006-2022_2022-11-17/esmr-analytical-export_years-2006-2022_2022-11-17.csv')"
   ]
  },
  {
   "cell_type": "code",
   "execution_count": null,
   "id": "2f5606ad-bbb3-4bd7-aa44-83603d101668",
   "metadata": {},
   "outputs": [],
   "source": [
    "data_dict = pd.read_csv('esmr_data_dictionary.csv')"
   ]
  },
  {
   "cell_type": "code",
   "execution_count": null,
   "id": "1d34f2ae-40d5-445f-83cf-2c673e7afdab",
   "metadata": {},
   "outputs": [],
   "source": [
    "data = esmr.ESMR(df)"
   ]
  },
  {
   "cell_type": "markdown",
   "id": "b025729e-b242-4c95-a037-7bfac3efea0b",
   "metadata": {
    "tags": []
   },
   "source": [
    "## Plot for facilities that have location information of lat/lon"
   ]
  },
  {
   "cell_type": "code",
   "execution_count": null,
   "id": "50fd8948-a3e2-46e8-9664-fdc6f215be2b",
   "metadata": {},
   "outputs": [],
   "source": [
    "facility_location_lat_lon = esmr.build_facility_location_lat_lon(df)"
   ]
  },
  {
   "cell_type": "code",
   "execution_count": null,
   "id": "63f8c738-589b-4988-95b7-9c7900ea3539",
   "metadata": {},
   "outputs": [],
   "source": [
    "facility_location_lat_lon.hvplot.points(x='longitude', y='latitude', geo=True, hover_cols='all', tiles=True).opts(\n",
    "    frame_width=500, active_tools=['wheel_zoom', 'pan'])"
   ]
  },
  {
   "cell_type": "markdown",
   "id": "ff832c1b-d95a-402b-8625-7589207acc1a",
   "metadata": {},
   "source": [
    "# Facilities with no location information"
   ]
  },
  {
   "cell_type": "code",
   "execution_count": null,
   "id": "5f79e43e-14e1-41d4-b585-9822ce5321ac",
   "metadata": {},
   "outputs": [],
   "source": [
    "df_facility_lat_lon = esmr.build_facility_location_lat_lon(df)"
   ]
  },
  {
   "cell_type": "code",
   "execution_count": null,
   "id": "7c391dce-81be-41a0-a973-fad7e324f95c",
   "metadata": {},
   "outputs": [],
   "source": [
    "df_facility_lat_lon = df_facility_lat_lon.groupby(['facility_name']).mean().dropna().reset_index()"
   ]
  },
  {
   "cell_type": "code",
   "execution_count": null,
   "id": "25b9f44f-1795-4d81-b64c-8c0f1768a366",
   "metadata": {},
   "outputs": [],
   "source": [
    "df_facility_lat_lon"
   ]
  },
  {
   "cell_type": "code",
   "execution_count": null,
   "id": "75df0fe1-8d32-446b-b637-46c7dc95973d",
   "metadata": {},
   "outputs": [],
   "source": [
    "#esmr.get_facilities_with_no_latlon_info(df, facility_location_lat_lon) # facilities that need location information"
   ]
  },
  {
   "cell_type": "code",
   "execution_count": null,
   "id": "88ed6fb4-a175-4f6c-8501-5c10337bd59d",
   "metadata": {},
   "outputs": [],
   "source": [
    "# map of facilities\n",
    "map = df_facility_lat_lon.hvplot.points(\n",
    "    x='longitude', y='latitude', geo=True, tiles='CartoLight', hover_cols='all').opts(frame_width=400, aspect=1)\n",
    "select_map_pts = hv.streams.Selection1D(source=map.Points.I)\n",
    "\n",
    "\n",
    "def show_plot(index):\n",
    "    if len(index) == 0:\n",
    "        index = [0]\n",
    "    facility_name = df_facility_lat_lon.iloc[index[0]].facility_name\n",
    "    # .opts(title=f'{index[0]} - {facility_name}')\n",
    "    plot = plot_parameters(data, facility_name)\n",
    "    return plot.cols(1)\n",
    "    #return hv.Layout([plot.cols(1)]).cols(1)  # .opts(responsive=True)\n",
    "\n",
    "\n",
    "# connect selection to plot\n",
    "# .opts(responsive=True)\n",
    "dmap = hv.DynamicMap(show_plot, streams=[select_map_pts], cache_size=1)"
   ]
  },
  {
   "cell_type": "code",
   "execution_count": null,
   "id": "649a045f-8ab7-4e4d-9310-4558d0b102ea",
   "metadata": {},
   "outputs": [],
   "source": [
    "pn.Row(map.opts(opts.Points(tools=['tap', 'hover'], active_tools=['wheel_zoom', 'pan', 'tap'],\n",
    "                            nonselection_color='gray', nonselection_alpha=0.5, size=8)).opts(frame_height=1000, frame_width=600), pn.panel(dmap)).show()"
   ]
  },
  {
   "cell_type": "code",
   "execution_count": null,
   "id": "f6409559-10de-478c-b4b7-5afd47855365",
   "metadata": {},
   "outputs": [],
   "source": []
  }
 ],
 "metadata": {
  "kernelspec": {
   "display_name": "Python [conda env:pydelmod]",
   "language": "python",
   "name": "conda-env-pydelmod-py"
  },
  "language_info": {
   "codemirror_mode": {
    "name": "ipython",
    "version": 3
   },
   "file_extension": ".py",
   "mimetype": "text/x-python",
   "name": "python",
   "nbconvert_exporter": "python",
   "pygments_lexer": "ipython3",
   "version": "3.9.15"
  }
 },
 "nbformat": 4,
 "nbformat_minor": 5
}
