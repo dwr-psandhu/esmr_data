{
 "cells": [
  {
   "cell_type": "code",
   "execution_count": null,
   "id": "4154cfbf-f210-4363-bad6-b35f9cdb5b9e",
   "metadata": {},
   "outputs": [],
   "source": [
    "import os\n",
    "from selenium import webdriver\n",
    "from selenium.webdriver.firefox.options import Options\n",
    "from selenium.webdriver.common.keys import Keys\n",
    "from selenium.webdriver.common.by import By\n",
    "#\n",
    "import pandas as pd\n",
    "from io import StringIO\n",
    "#\n",
    "import logging"
   ]
  },
  {
   "cell_type": "code",
   "execution_count": null,
   "id": "cf8986cf-29b6-4237-aaca-f3da92492b5d",
   "metadata": {},
   "outputs": [],
   "source": [
    "class CIWQS:\n",
    "    def __init__(self):\n",
    "        self.driver = webdriver.Firefox()#options=options) # not working\n",
    "        self.logger = logging.getLogger('ciwqs')\n",
    "        \n",
    "    def __del__(self):\n",
    "        self.driver.quit()\n",
    "        \n",
    "    def download_npdes_permit_pdf(self, placeid):\n",
    "        url = f'https://ciwqs.waterboards.ca.gov/ciwqs/readOnly/CiwqsReportServlet?inCommand=drilldown&reportName=facilityAtAGlance&placeID={placeid}'\n",
    "        self.driver.get(url)\n",
    "        self.logger.debug(self.driver.find_element_by_class_name('ciwqsReportDataTable').text)\n",
    "        tables = self.driver.find_elements_by_class_name('ciwqsReportDataTable')\n",
    "        self.logger.debug(f'Length of tables: {len(tables)}')\n",
    "        self.logger.debug(tables[3].text.find('Regulatory Measures') >= 0)\n",
    "        df = pd.read_html(StringIO(tables[3].get_attribute('innerHTML')), header=0)[0]\n",
    "        self.logger.debug(df)\n",
    "        #reg_measure_id = df.query('Status == \"Active\"')['Reg Measure ID'].values[0]\n",
    "        reg_measure_id = df.query('`Reg Measure Type` == \"NPDES Permit\"')['Reg Measure ID'].values[0]\n",
    "        report_link = tables[3].find_element_by_xpath(f\"//tr//*[contains(text(),{reg_measure_id})]\").find_element_by_xpath('../..').find_element_by_tag_name(\"a\")#.get_attribute('href')\n",
    "        self.logger.debug(f\"link to pdf reports: {report_link.get_attribute('href')}\")\n",
    "        self.driver.get(report_link.get_attribute('href'))\n",
    "        self.logger.debug(self.driver.find_element_by_class_name('ciwqsReportDataTable').text)\n",
    "        self.logger.debug(self.driver.find_element_by_partial_link_text(\".pdf\").get_attribute('href'))\n",
    "        pdf_report_links = self.driver.find_elements_by_partial_link_text(\".pdf\")\n",
    "        fnames = []\n",
    "        for pdf_report_link in pdf_report_links:\n",
    "            fnames.append(pdf_report_link.text)\n",
    "            self.logger.info('Downloading PDF', pdf_report_link.text)\n",
    "            pdf_report_link.click()\n",
    "        return fnames"
   ]
  },
  {
   "cell_type": "code",
   "execution_count": null,
   "id": "980d23e8-ee68-4484-88d5-5af3790edf24",
   "metadata": {},
   "outputs": [],
   "source": [
    "c = CIWQS()"
   ]
  },
  {
   "cell_type": "code",
   "execution_count": null,
   "id": "ffa49017-275c-4ffa-b722-db991ec7fa74",
   "metadata": {},
   "outputs": [],
   "source": [
    "facility_id = pd.read_csv('facility_name_id.csv',index_col=0)"
   ]
  },
  {
   "cell_type": "code",
   "execution_count": null,
   "id": "b89e50d6-82e8-44b4-9194-5a2257c66bdd",
   "metadata": {},
   "outputs": [],
   "source": [
    "facility_id.query('facility_name.str.contains(\"Sacramento\")')"
   ]
  },
  {
   "cell_type": "code",
   "execution_count": null,
   "id": "d1f11952-833a-460f-ae56-b53900eb1769",
   "metadata": {},
   "outputs": [],
   "source": [
    "import tqdm"
   ]
  },
  {
   "cell_type": "code",
   "execution_count": null,
   "id": "68172b0e-f8f9-4cb9-abd7-0e41583a32f9",
   "metadata": {},
   "outputs": [],
   "source": [
    "def download_filenames(place_id):\n",
    "    try:\n",
    "        return c.download_npdes_permit_pdf(place_id)\n",
    "    except Exception as e:\n",
    "        #raise e\n",
    "        return []"
   ]
  },
  {
   "cell_type": "code",
   "execution_count": null,
   "id": "c375e069-2fc7-439b-ba15-7fa17459e243",
   "metadata": {},
   "outputs": [],
   "source": [
    "place_id_filenames_map = {r['facility_place_id']: download_filenames(r['facility_place_id']) for i, r in tqdm.tqdm(facility_id.iterrows(),total=len(facility_id))}"
   ]
  },
  {
   "cell_type": "code",
   "execution_count": null,
   "id": "01d3ea23-8314-4bfb-a54d-522cc214504c",
   "metadata": {},
   "outputs": [],
   "source": [
    "import pickle"
   ]
  },
  {
   "cell_type": "code",
   "execution_count": null,
   "id": "5308e740-62cd-492e-85b5-9cf1da14da65",
   "metadata": {},
   "outputs": [],
   "source": [
    "with open('place_id_filenames_map.pkl','wb') as fh: pickle.dump(place_id_filenames_map, fh)"
   ]
  },
  {
   "cell_type": "code",
   "execution_count": null,
   "id": "54365900-95ba-4aa6-b2a1-1fa46ceb998f",
   "metadata": {},
   "outputs": [],
   "source": [
    "del c"
   ]
  }
 ],
 "metadata": {
  "kernelspec": {
   "display_name": "Python [conda env:pydelmod]",
   "language": "python",
   "name": "conda-env-pydelmod-py"
  },
  "language_info": {
   "codemirror_mode": {
    "name": "ipython",
    "version": 3
   },
   "file_extension": ".py",
   "mimetype": "text/x-python",
   "name": "python",
   "nbconvert_exporter": "python",
   "pygments_lexer": "ipython3",
   "version": "3.9.15"
  }
 },
 "nbformat": 4,
 "nbformat_minor": 5
}
