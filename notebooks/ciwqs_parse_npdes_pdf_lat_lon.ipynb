{
 "cells": [
  {
   "cell_type": "code",
   "execution_count": null,
   "id": "371a5554-8d1c-4296-af5d-5464377f9222",
   "metadata": {},
   "outputs": [],
   "source": [
    "import pickle"
   ]
  },
  {
   "cell_type": "code",
   "execution_count": null,
   "id": "e3ba2ed1-934c-4a60-b07d-dbb676033f24",
   "metadata": {
    "tags": []
   },
   "outputs": [],
   "source": [
    "#with open('place_id_filenames_map.pkl','wb') as fh: pickle.dump(place_id_filenames_map, fh)\n",
    "with open('place_id_filenames_map.pkl','rb') as fh: place_id_filename_map = pickle.load(fh)"
   ]
  },
  {
   "cell_type": "code",
   "execution_count": null,
   "id": "6b24a8ad-0ccf-4b48-b7f2-e0db3bd34868",
   "metadata": {},
   "outputs": [],
   "source": [
    "len(place_id_filename_map)"
   ]
  },
  {
   "cell_type": "code",
   "execution_count": null,
   "id": "5ed4c51d-b21b-4fd6-b396-cb332b1b5030",
   "metadata": {},
   "outputs": [],
   "source": [
    "import tabula\n",
    "import tqdm\n",
    "\n",
    "import os\n",
    "import pandas as pd\n",
    "import numpy as np"
   ]
  },
  {
   "cell_type": "code",
   "execution_count": null,
   "id": "f242bb79-5eaa-463c-9c94-c9b87d7c96f9",
   "metadata": {},
   "outputs": [],
   "source": [
    "dir='downloads'"
   ]
  },
  {
   "cell_type": "code",
   "execution_count": null,
   "id": "294abd2f-b18c-47ce-84b7-229b764931f1",
   "metadata": {},
   "outputs": [],
   "source": [
    "df = pd.read_csv('facility_name_id_filename.csv',index_col=0)\n",
    "df.head()"
   ]
  },
  {
   "cell_type": "code",
   "execution_count": null,
   "id": "944e5dc9-5098-45d2-a7c7-15465f328fbb",
   "metadata": {},
   "outputs": [],
   "source": [
    "import pandas as pd\n",
    "from io import StringIO\n",
    "\n",
    "match_dmg_str = r'\\d+[°|o] \\d+’ \\d+”'\n",
    "match_dmg_str_commas = r'\\d+[°|o][,]? \\d+’[,]? \\d+” [N|W]?'\n",
    "match_deg_str = r'[+-]?\\d+[.]\\d*[°|o]'\n",
    "\n",
    "def find_pages_after_match(pages, match):\n",
    "    for df in pages:\n",
    "        cols = df.columns\n",
    "        df = df.astype(str)\n",
    "        for cname in cols:\n",
    "            if df[cname].str.contains(match).any():\n",
    "                yield df\n",
    "\n",
    "def find_row_with_match(page, matches):\n",
    "    cols = page.columns\n",
    "    dfall = page.astype(str).apply(lambda x: \"-\".join(x), axis =1)\n",
    "    for match in matches:\n",
    "        if not dfall.empty and dfall.str.contains(match).any():\n",
    "            return dfall.dropna().loc[dfall.dropna().str.contains(match)].values[0]\n",
    "                \n",
    "def get_value_with_match(pages, matches):\n",
    "    for page in pages:\n",
    "        find_row_with_match(page, matches)\n",
    "\n",
    "import re\n",
    "dmg = re.compile(match_dmg_str)\n",
    "dmg_parts = re.compile(r'(\\d+)[°|o] (\\d+)’ (\\d+)”')\n",
    "degdecimal = re.compile(match_deg_str)\n",
    "degdecimal_parts = re.compile(r'([+-]?\\d+[.]\\d*)[°|o]')\n",
    "dmg_commas = re.compile(match_dmg_str_commas)\n",
    "dmg_commas_parts = re.compile(r'(\\d+)[°|o][,]? (\\d+)’[,]? (\\d+)” [N|W]?')\n",
    "\n",
    "def parse_degdecimal(x):\n",
    "    lat, lon = dmgdecimal.findall(x)\n",
    "    \n",
    "def parse_dmg(x):\n",
    "    _,d,m,s,_=dmg_parts.split(x)\n",
    "    return float(d)+float(m)/60+float(s)/3600\n",
    "\n",
    "def parse_dmg_commas(x):\n",
    "    _,d,m,s,_=dmg_commas_parts.split(x)\n",
    "    return float(d)+float(m)/60+float(s)/3600    \n",
    "\n",
    "def parse_deg_decimal(x):\n",
    "    _,y,_=degdecimal_parts.split(x)\n",
    "    return float(y)\n",
    "\n",
    "def parse_lat_lon(x):\n",
    "    try:\n",
    "        lat, lon = dmg.findall(x)\n",
    "        lat = parse_dmg(lat)\n",
    "        lon = parse_dmg(lon)\n",
    "        lon = -lon\n",
    "    except:\n",
    "        try:\n",
    "            lat, lon = dmg_commas.findall(x)\n",
    "            lat = parse_dmg_commas(lat)\n",
    "            lon = parse_dmg_commas(lon)\n",
    "            lon = -lon\n",
    "        except:\n",
    "            lat, lon = degdecimal.findall(x)\n",
    "            lat = parse_deg_decimal(lat)\n",
    "            lon = parse_deg_decimal(lon)\n",
    "    return lat,lon"
   ]
  },
  {
   "cell_type": "markdown",
   "id": "6769a3c4-026f-4eb4-8304-2e836a73cad1",
   "metadata": {},
   "source": [
    "# Keep only active facilities, i.e. for which NPDES permit was downloaded (only active ones have been downloaded)"
   ]
  },
  {
   "cell_type": "code",
   "execution_count": null,
   "id": "7dc0d8a6-a81e-434b-a3c8-5db0b6c0e380",
   "metadata": {},
   "outputs": [],
   "source": [
    "records = [(k,a) for k in place_id_filename_map for a in place_id_filename_map[k]]"
   ]
  },
  {
   "cell_type": "code",
   "execution_count": null,
   "id": "4c91558d-32a1-4bf8-901e-989665a03991",
   "metadata": {},
   "outputs": [],
   "source": [
    "len(place_id_filename_map)"
   ]
  },
  {
   "cell_type": "code",
   "execution_count": null,
   "id": "14805a9a-3c6f-450b-b356-2079430e6a65",
   "metadata": {},
   "outputs": [],
   "source": [
    "df_facility_files = pd.DataFrame.from_records(records, columns=['facility_place_id','filename'])\n",
    "df_facility_files.head()"
   ]
  },
  {
   "cell_type": "code",
   "execution_count": null,
   "id": "3eb432b9-aec1-47d9-bbec-0ca4cddad9bc",
   "metadata": {},
   "outputs": [],
   "source": [
    "dfm = df.merge(df_facility_files, on='facility_place_id', suffixes=('_l','_r')).drop(['filename_l'], axis=1).rename({'filename_r':'filename'}, axis=1)\n",
    "dfm.head()"
   ]
  },
  {
   "cell_type": "code",
   "execution_count": null,
   "id": "45567cd5-e563-42be-9ebb-bba2c5d75c1f",
   "metadata": {},
   "outputs": [],
   "source": [
    "def get_ll_for_facility_name(facility_name):\n",
    "    for fname in dfm.query(f'facility_name.str.startswith(\"{facility_name}\")').filename.values:\n",
    "        try:\n",
    "            print('Trying ',fname)\n",
    "            pages = tabula.read_pdf(f'{dir}/{fname}', pages='all', guess=False)\n",
    "            pagesafter = find_pages_after_match(pages,'Table 2')\n",
    "            page0 = next(pagesafter)\n",
    "            page1 = next(pagesafter)\n",
    "            row_match = find_row_with_match(page0, [match_dmg_str, match_deg_str, match_dmg_str_commas])\n",
    "            print('match value: ', row_match)\n",
    "            print('match value: ', row_match)\n",
    "            lat, lon = parse_lat_lon(row_match)\n",
    "            print(facility_name, lat,lon)\n",
    "            return (lat,lon)\n",
    "            break; # goto the next facility\n",
    "        except:\n",
    "            continue\n",
    "    return None"
   ]
  },
  {
   "cell_type": "code",
   "execution_count": null,
   "id": "246649fb-d510-4f69-88e3-ce347d282546",
   "metadata": {},
   "outputs": [],
   "source": [
    "get_ll_for_facility_name('Aerojet Interim GW Extraction & Treatment System')"
   ]
  },
  {
   "cell_type": "code",
   "execution_count": null,
   "id": "dcb5703b-fe62-4065-88da-57e23bb914a9",
   "metadata": {},
   "outputs": [],
   "source": [
    "pages = tabula.read_pdf(f'{dir}/r5-2020-0051-001_npdes.pdf', pages='all', guess=False)\n",
    "#pages"
   ]
  },
  {
   "cell_type": "code",
   "execution_count": null,
   "id": "e47dd62a-2048-4331-9462-ee2c84b0edf4",
   "metadata": {},
   "outputs": [],
   "source": [
    "pagesafter = find_pages_after_match(pages,'Table 2')\n",
    "page0 = next(pagesafter)\n",
    "page1 = next(pagesafter)"
   ]
  },
  {
   "cell_type": "code",
   "execution_count": null,
   "id": "7551343c-edf9-4eab-a96a-d5ddcdf05ada",
   "metadata": {},
   "outputs": [],
   "source": [
    "page0"
   ]
  },
  {
   "cell_type": "code",
   "execution_count": null,
   "id": "b4c2dcd5-909d-4881-a2ef-519d0958970b",
   "metadata": {},
   "outputs": [],
   "source": [
    "row_match = find_row_with_match(page0, [match_dmg_str, match_deg_str, match_dmg_str_commas])\n",
    "row_match\n",
    "\n",
    "parse_lat_lon(row_match)"
   ]
  },
  {
   "cell_type": "code",
   "execution_count": null,
   "id": "d13a9308-c55c-43f2-8595-e98153135c69",
   "metadata": {},
   "outputs": [],
   "source": []
  },
  {
   "cell_type": "code",
   "execution_count": null,
   "id": "b4ad4d98-36ef-41d6-bcf4-d113b42bae21",
   "metadata": {
    "tags": []
   },
   "outputs": [],
   "source": [
    "ll = {}\n",
    "failures = {}\n",
    "for i,r in df.iterrows():\n",
    "    facility_name = r['facility_name']\n",
    "    latlon = get_ll_for_facility_name(facility_name)\n",
    "    if latlon == None:\n",
    "        print('Failed for ', facility_name)\n",
    "        failures[facility_name] = None\n",
    "        if len(failures) > 5: break;\n",
    "    else:\n",
    "        ll[facility_name]=latlon"
   ]
  },
  {
   "cell_type": "code",
   "execution_count": null,
   "id": "0baaab56-939a-464c-aa37-0fe7143938c2",
   "metadata": {},
   "outputs": [],
   "source": [
    "dfm.query('facility_name == \"Aerojet Sacramento Facility\"')"
   ]
  },
  {
   "cell_type": "code",
   "execution_count": null,
   "id": "59cb6d6e-e863-4d37-914e-8eb8eba9bb26",
   "metadata": {},
   "outputs": [],
   "source": [
    "pages = tabula.read_pdf(f'downloads/r5-2013-0156_npdes.pdf', pages='all', guess=False)\n"
   ]
  },
  {
   "cell_type": "code",
   "execution_count": null,
   "id": "2b157684-a6b3-4d0e-9918-5b63fed5c7f2",
   "metadata": {},
   "outputs": [],
   "source": [
    "for i, r in pages[0].iterrows():\n",
    "    print(r.values)"
   ]
  },
  {
   "cell_type": "code",
   "execution_count": null,
   "id": "2297730b-c6c4-465f-9949-81bdfc180cc5",
   "metadata": {},
   "outputs": [],
   "source": []
  },
  {
   "cell_type": "code",
   "execution_count": null,
   "id": "f22c475a-0759-4c75-ba7e-a74eb43b0424",
   "metadata": {},
   "outputs": [],
   "source": [
    "len(ll)"
   ]
  },
  {
   "cell_type": "code",
   "execution_count": null,
   "id": "82856c58-69a8-4fd6-bbff-b177515f2c00",
   "metadata": {},
   "outputs": [],
   "source": [
    "dfll = pd.DataFrame.from_records([(k,ll[k][0],ll[k][1]) for k in ll],columns=['facility_name','latitude','longitude'])"
   ]
  },
  {
   "cell_type": "code",
   "execution_count": null,
   "id": "7669f28e-9d03-4306-82df-0e5de04d780c",
   "metadata": {},
   "outputs": [],
   "source": [
    "len(dfll)"
   ]
  },
  {
   "cell_type": "code",
   "execution_count": null,
   "id": "b61099f0-2511-4a0b-8974-2ddfe6af56d9",
   "metadata": {},
   "outputs": [],
   "source": [
    "len(dfm.facility_name.unique())"
   ]
  },
  {
   "cell_type": "code",
   "execution_count": null,
   "id": "526912ab-bdb0-4b67-a535-e840aa8958a1",
   "metadata": {},
   "outputs": [],
   "source": [
    "dfmll = dfm.merge(dfll, on='facility_name', how='outer')\n",
    "dfmll"
   ]
  },
  {
   "cell_type": "code",
   "execution_count": null,
   "id": "644808f5-170f-4739-a463-dda19ec1429e",
   "metadata": {},
   "outputs": [],
   "source": [
    "dfmx = dfmll.query('latitude.isna()')[dfm.columns]"
   ]
  },
  {
   "cell_type": "code",
   "execution_count": null,
   "id": "e83612f8-3f71-4384-aa2b-3333b2a82491",
   "metadata": {},
   "outputs": [],
   "source": [
    "dfmx"
   ]
  },
  {
   "cell_type": "code",
   "execution_count": null,
   "id": "0cae22c4-3d98-46f5-982b-e13c2c2d33b8",
   "metadata": {},
   "outputs": [],
   "source": [
    "#facility_name = \"Sacramento Regional WWTP\"\n",
    "#facility_name = \"American Canyon Water Reclamation Facility (WRF) (formerly WWTP)\"\n",
    "\n",
    "dfm.query(f'facility_name.str.startswith(\"{facility_name}\")')"
   ]
  },
  {
   "cell_type": "code",
   "execution_count": null,
   "id": "db49d8ac-f240-4501-8ebb-a83581b7c428",
   "metadata": {},
   "outputs": [],
   "source": [
    "fname = dfm.query(f'facility_name.str.startswith(\"{facility_name}\")').filename.values[0]\n",
    "fname"
   ]
  },
  {
   "cell_type": "code",
   "execution_count": null,
   "id": "ba506bb7-cb8d-443d-a94b-d48f206f80e9",
   "metadata": {},
   "outputs": [],
   "source": [
    "pages = tabula.read_pdf(f'{dir}/{fname}', pages='all', guess=False)#columns=['date','time','remarks'])"
   ]
  },
  {
   "cell_type": "code",
   "execution_count": null,
   "id": "8a60330b-9cef-4357-a278-7eb3be765a27",
   "metadata": {},
   "outputs": [],
   "source": [
    "pages"
   ]
  },
  {
   "cell_type": "code",
   "execution_count": null,
   "id": "e832a244-a0d2-411f-be5c-70cf7049ba0c",
   "metadata": {},
   "outputs": [],
   "source": [
    "get_value_with_match(pages, [match_dmg_str, match_deg_str])"
   ]
  },
  {
   "cell_type": "code",
   "execution_count": null,
   "id": "1e0336b7-f273-46db-b000-295c8e16b3f0",
   "metadata": {},
   "outputs": [],
   "source": [
    "lat, lon = parse_lat_lon(get_value_with_match(pages, [match_dmg_str, match_deg_str]))\n",
    "lat, lon"
   ]
  },
  {
   "cell_type": "code",
   "execution_count": null,
   "id": "5181e2a5-8e21-465c-80cc-7127de44ad98",
   "metadata": {},
   "outputs": [],
   "source": []
  }
 ],
 "metadata": {
  "kernelspec": {
   "display_name": "Python [conda env:pydelmod]",
   "language": "python",
   "name": "conda-env-pydelmod-py"
  },
  "language_info": {
   "codemirror_mode": {
    "name": "ipython",
    "version": 3
   },
   "file_extension": ".py",
   "mimetype": "text/x-python",
   "name": "python",
   "nbconvert_exporter": "python",
   "pygments_lexer": "ipython3",
   "version": "3.9.15"
  }
 },
 "nbformat": 4,
 "nbformat_minor": 5
}
