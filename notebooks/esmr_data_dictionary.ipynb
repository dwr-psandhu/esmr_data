{
 "cells": [
  {
   "cell_type": "code",
   "execution_count": null,
   "id": "0aaac6a5-7107-4736-bb76-0ee10f545588",
   "metadata": {},
   "outputs": [],
   "source": [
    "import pandas as pd\n",
    "import hvplot.pandas"
   ]
  },
  {
   "cell_type": "code",
   "execution_count": null,
   "id": "0d345534-dc90-44b4-8e38-f4a99ae47519",
   "metadata": {},
   "outputs": [],
   "source": [
    "data_dict = pd.read_csv('../tests/data/esmr_data_dictionary.csv')\n",
    "data_dict"
   ]
  },
  {
   "cell_type": "code",
   "execution_count": null,
   "id": "d51ae79a-7f7a-4d37-9117-a46f7fb2d10b",
   "metadata": {},
   "outputs": [],
   "source": [
    "{r.column: r.type for _, r in data_dict[['column','type']].iterrows()}"
   ]
  },
  {
   "cell_type": "code",
   "execution_count": null,
   "id": "9335ae1e-fb1b-486d-8803-2693fb6a7b16",
   "metadata": {},
   "outputs": [],
   "source": []
  }
 ],
 "metadata": {
  "kernelspec": {
   "display_name": "pydelmod",
   "language": "python",
   "name": "python3"
  },
  "language_info": {
   "codemirror_mode": {
    "name": "ipython",
    "version": 3
   },
   "file_extension": ".py",
   "mimetype": "text/x-python",
   "name": "python",
   "nbconvert_exporter": "python",
   "pygments_lexer": "ipython3",
   "version": "3.9.15"
  },
  "vscode": {
   "interpreter": {
    "hash": "5bc547b4e6cad8ff02940230625a7bf7fc546e2c0affe95db29757aca6a365b7"
   }
  }
 },
 "nbformat": 4,
 "nbformat_minor": 5
}
